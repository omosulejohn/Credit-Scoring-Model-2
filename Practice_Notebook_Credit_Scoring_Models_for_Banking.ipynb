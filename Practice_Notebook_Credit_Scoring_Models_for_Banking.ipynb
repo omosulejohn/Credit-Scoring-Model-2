{
 "cells": [
  {
   "cell_type": "markdown",
   "metadata": {
    "id": "xVJGoD-k8QbZ"
   },
   "source": [
    "<font color=\"blue\">To use this notebook on Google Colaboratory, you will need to make a copy of it. Go to **File** > **Save a Copy in Drive**. You can then use the new copy that will appear in the new tab.</font>"
   ]
  },
  {
   "cell_type": "markdown",
   "metadata": {
    "id": "eKZxLFJgsqWV"
   },
   "source": [
    "You will be required to work on this notebook together with your break out room peers. Ensure one person shares their screen while others discuss and provide tips on how to go about the given problem. The facilitator will come into your rooms to provide you the support that you might need."
   ]
  },
  {
   "cell_type": "markdown",
   "metadata": {
    "id": "47QIECbq4orp"
   },
   "source": [
    "# Practice Notebook: Credit Scoring Models for Banking"
   ]
  },
  {
   "cell_type": "markdown",
   "metadata": {
    "id": "jz7EQjs35RQC"
   },
   "source": [
    "## Logistic Regression "
   ]
  },
  {
   "cell_type": "markdown",
   "metadata": {
    "id": "gkBOG9_h6PKS"
   },
   "source": [
    "### Example"
   ]
  },
  {
   "cell_type": "markdown",
   "metadata": {
    "id": "p_nGg6z0Ie7L"
   },
   "source": [
    "When a bank receives a loan application, based on the applicant’s profile the bank has to make a decision regarding whether to go ahead with the loan approval or not. Create a logistic regression model given a dataset with the following variables."
   ]
  },
  {
   "cell_type": "markdown",
   "metadata": {
    "id": "6kAoEzYDHh3n"
   },
   "source": [
    "\n",
    "Below is the glossary for the given dataset:\n",
    "*   Age (numeric) \n",
    "*   Sex (text: male, female)\n",
    "*   Job (numeric: 0 - unskilled and non-resident, 1 - unskilled and resident, 2 - skilled, 3 - highly skilled)\n",
    "*   Housing (text: own, rent, or free)\n",
    "*   Saving accounts (text - little, moderate, quite rich, rich)\n",
    "*   Checking account (numeric, in DM - Deutsch Mark)\n",
    "*   Credit amount (numeric, in DM)\n",
    "*   Duration (numeric, in month)\n",
    "*   Purpose (text: car, furniture/equipment, radio/TV, domestic appliances, repairs, education, business, vacation/others)\n",
    "*   Risk (Value target - Good or Bad Risk)\n",
    "\n"
   ]
  },
  {
   "cell_type": "markdown",
   "metadata": {
    "id": "Yy0Kwwg43_HN"
   },
   "source": [
    "#### Importing Required Libraries"
   ]
  },
  {
   "cell_type": "markdown",
   "metadata": {
    "id": "kRdbFL9sqcWM"
   },
   "source": [
    "We will first import the python libraries that we will need for performing our analysis."
   ]
  },
  {
   "cell_type": "code",
   "execution_count": 2,
   "metadata": {
    "id": "f7RU2KnoHO3r"
   },
   "outputs": [],
   "source": [
    "# Importing standard libraries\n",
    "import pandas as pd               # library for data manipulation and analysis\n",
    "import numpy as np                # library for performin scientific computations\n",
    "import matplotlib.pyplot as plt   # library for creating basic visualisations\n",
    "import seaborn as sns             # library for creating rich data visualisations\n",
    "\n",
    "import warnings\n",
    "warnings.simplefilter(action='ignore', category=FutureWarning)"
   ]
  },
  {
   "cell_type": "markdown",
   "metadata": {
    "id": "s5W5F3084Ccc"
   },
   "source": [
    "#### Loading Our Dataset"
   ]
  },
  {
   "cell_type": "code",
   "execution_count": 3,
   "metadata": {
    "colab": {
     "base_uri": "https://localhost:8080/",
     "height": 221
    },
    "id": "GJ2IK6gB6PKV",
    "outputId": "b393b8de-2f8a-445d-907f-eb0084429a29"
   },
   "outputs": [
    {
     "data": {
      "text/html": [
       "<div>\n",
       "<style scoped>\n",
       "    .dataframe tbody tr th:only-of-type {\n",
       "        vertical-align: middle;\n",
       "    }\n",
       "\n",
       "    .dataframe tbody tr th {\n",
       "        vertical-align: top;\n",
       "    }\n",
       "\n",
       "    .dataframe thead th {\n",
       "        text-align: right;\n",
       "    }\n",
       "</style>\n",
       "<table border=\"1\" class=\"dataframe\">\n",
       "  <thead>\n",
       "    <tr style=\"text-align: right;\">\n",
       "      <th></th>\n",
       "      <th>Unnamed: 0</th>\n",
       "      <th>Age</th>\n",
       "      <th>Sex</th>\n",
       "      <th>Job</th>\n",
       "      <th>Housing</th>\n",
       "      <th>Saving accounts</th>\n",
       "      <th>Checking account</th>\n",
       "      <th>Credit amount</th>\n",
       "      <th>Duration</th>\n",
       "      <th>Purpose</th>\n",
       "      <th>Risk</th>\n",
       "    </tr>\n",
       "  </thead>\n",
       "  <tbody>\n",
       "    <tr>\n",
       "      <th>0</th>\n",
       "      <td>0</td>\n",
       "      <td>67</td>\n",
       "      <td>male</td>\n",
       "      <td>2</td>\n",
       "      <td>own</td>\n",
       "      <td>NaN</td>\n",
       "      <td>little</td>\n",
       "      <td>1169</td>\n",
       "      <td>6</td>\n",
       "      <td>radio/TV</td>\n",
       "      <td>good</td>\n",
       "    </tr>\n",
       "    <tr>\n",
       "      <th>1</th>\n",
       "      <td>1</td>\n",
       "      <td>22</td>\n",
       "      <td>female</td>\n",
       "      <td>2</td>\n",
       "      <td>own</td>\n",
       "      <td>little</td>\n",
       "      <td>moderate</td>\n",
       "      <td>5951</td>\n",
       "      <td>48</td>\n",
       "      <td>radio/TV</td>\n",
       "      <td>bad</td>\n",
       "    </tr>\n",
       "    <tr>\n",
       "      <th>2</th>\n",
       "      <td>2</td>\n",
       "      <td>49</td>\n",
       "      <td>male</td>\n",
       "      <td>1</td>\n",
       "      <td>own</td>\n",
       "      <td>little</td>\n",
       "      <td>NaN</td>\n",
       "      <td>2096</td>\n",
       "      <td>12</td>\n",
       "      <td>education</td>\n",
       "      <td>good</td>\n",
       "    </tr>\n",
       "    <tr>\n",
       "      <th>3</th>\n",
       "      <td>3</td>\n",
       "      <td>45</td>\n",
       "      <td>male</td>\n",
       "      <td>2</td>\n",
       "      <td>free</td>\n",
       "      <td>little</td>\n",
       "      <td>little</td>\n",
       "      <td>7882</td>\n",
       "      <td>42</td>\n",
       "      <td>furniture/equipment</td>\n",
       "      <td>good</td>\n",
       "    </tr>\n",
       "    <tr>\n",
       "      <th>4</th>\n",
       "      <td>4</td>\n",
       "      <td>53</td>\n",
       "      <td>male</td>\n",
       "      <td>2</td>\n",
       "      <td>free</td>\n",
       "      <td>little</td>\n",
       "      <td>little</td>\n",
       "      <td>4870</td>\n",
       "      <td>24</td>\n",
       "      <td>car</td>\n",
       "      <td>bad</td>\n",
       "    </tr>\n",
       "  </tbody>\n",
       "</table>\n",
       "</div>"
      ],
      "text/plain": [
       "   Unnamed: 0  Age     Sex  Job Housing Saving accounts Checking account  \\\n",
       "0           0   67    male    2     own             NaN           little   \n",
       "1           1   22  female    2     own          little         moderate   \n",
       "2           2   49    male    1     own          little              NaN   \n",
       "3           3   45    male    2    free          little           little   \n",
       "4           4   53    male    2    free          little           little   \n",
       "\n",
       "   Credit amount  Duration              Purpose  Risk  \n",
       "0           1169         6             radio/TV  good  \n",
       "1           5951        48             radio/TV   bad  \n",
       "2           2096        12            education  good  \n",
       "3           7882        42  furniture/equipment  good  \n",
       "4           4870        24                  car   bad  "
      ]
     },
     "execution_count": 3,
     "metadata": {},
     "output_type": "execute_result"
    }
   ],
   "source": [
    "# Importing Dataset for the given URL\n",
    "# ---\n",
    "# Dataset URL = https://bit.ly/35AyjFR\n",
    "# ---\n",
    "#\n",
    "\n",
    "# reading our dataset from a URL and storing contents in a dataframe (tabular datastructure)\n",
    "df = pd.read_csv('https://bit.ly/35AyjFR')\n",
    "\n",
    "# previewing the dataframe\n",
    "df.head()"
   ]
  },
  {
   "cell_type": "markdown",
   "metadata": {
    "id": "qfNEnBw637RZ"
   },
   "source": [
    "#### Data Exploration"
   ]
  },
  {
   "cell_type": "code",
   "execution_count": 4,
   "metadata": {
    "colab": {
     "base_uri": "https://localhost:8080/",
     "height": 34
    },
    "id": "mKx5Wmo99fYy",
    "outputId": "425f0c29-ec50-41b1-b7db-3cabc1ad3e47"
   },
   "outputs": [
    {
     "data": {
      "text/plain": [
       "(1000, 11)"
      ]
     },
     "execution_count": 4,
     "metadata": {},
     "output_type": "execute_result"
    }
   ],
   "source": [
    "# determining the shape of the dataset / by shape we mean size\n",
    "df.shape"
   ]
  },
  {
   "cell_type": "markdown",
   "metadata": {
    "id": "DG5a-q944dRI"
   },
   "source": [
    "**Observation:** Our dataset contains 1000 records, 10 variables."
   ]
  },
  {
   "cell_type": "code",
   "execution_count": 5,
   "metadata": {
    "colab": {
     "base_uri": "https://localhost:8080/",
     "height": 297
    },
    "id": "peRI1Mzy4V44",
    "outputId": "6bfd4f2d-df2f-463a-da2f-859239ea96ad"
   },
   "outputs": [
    {
     "data": {
      "text/html": [
       "<div>\n",
       "<style scoped>\n",
       "    .dataframe tbody tr th:only-of-type {\n",
       "        vertical-align: middle;\n",
       "    }\n",
       "\n",
       "    .dataframe tbody tr th {\n",
       "        vertical-align: top;\n",
       "    }\n",
       "\n",
       "    .dataframe thead th {\n",
       "        text-align: right;\n",
       "    }\n",
       "</style>\n",
       "<table border=\"1\" class=\"dataframe\">\n",
       "  <thead>\n",
       "    <tr style=\"text-align: right;\">\n",
       "      <th></th>\n",
       "      <th>Unnamed: 0</th>\n",
       "      <th>Age</th>\n",
       "      <th>Job</th>\n",
       "      <th>Credit amount</th>\n",
       "      <th>Duration</th>\n",
       "    </tr>\n",
       "  </thead>\n",
       "  <tbody>\n",
       "    <tr>\n",
       "      <th>count</th>\n",
       "      <td>1000.000000</td>\n",
       "      <td>1000.000000</td>\n",
       "      <td>1000.000000</td>\n",
       "      <td>1000.000000</td>\n",
       "      <td>1000.000000</td>\n",
       "    </tr>\n",
       "    <tr>\n",
       "      <th>mean</th>\n",
       "      <td>499.500000</td>\n",
       "      <td>35.546000</td>\n",
       "      <td>1.904000</td>\n",
       "      <td>3271.258000</td>\n",
       "      <td>20.903000</td>\n",
       "    </tr>\n",
       "    <tr>\n",
       "      <th>std</th>\n",
       "      <td>288.819436</td>\n",
       "      <td>11.375469</td>\n",
       "      <td>0.653614</td>\n",
       "      <td>2822.736876</td>\n",
       "      <td>12.058814</td>\n",
       "    </tr>\n",
       "    <tr>\n",
       "      <th>min</th>\n",
       "      <td>0.000000</td>\n",
       "      <td>19.000000</td>\n",
       "      <td>0.000000</td>\n",
       "      <td>250.000000</td>\n",
       "      <td>4.000000</td>\n",
       "    </tr>\n",
       "    <tr>\n",
       "      <th>25%</th>\n",
       "      <td>249.750000</td>\n",
       "      <td>27.000000</td>\n",
       "      <td>2.000000</td>\n",
       "      <td>1365.500000</td>\n",
       "      <td>12.000000</td>\n",
       "    </tr>\n",
       "    <tr>\n",
       "      <th>50%</th>\n",
       "      <td>499.500000</td>\n",
       "      <td>33.000000</td>\n",
       "      <td>2.000000</td>\n",
       "      <td>2319.500000</td>\n",
       "      <td>18.000000</td>\n",
       "    </tr>\n",
       "    <tr>\n",
       "      <th>75%</th>\n",
       "      <td>749.250000</td>\n",
       "      <td>42.000000</td>\n",
       "      <td>2.000000</td>\n",
       "      <td>3972.250000</td>\n",
       "      <td>24.000000</td>\n",
       "    </tr>\n",
       "    <tr>\n",
       "      <th>max</th>\n",
       "      <td>999.000000</td>\n",
       "      <td>75.000000</td>\n",
       "      <td>3.000000</td>\n",
       "      <td>18424.000000</td>\n",
       "      <td>72.000000</td>\n",
       "    </tr>\n",
       "  </tbody>\n",
       "</table>\n",
       "</div>"
      ],
      "text/plain": [
       "        Unnamed: 0          Age          Job  Credit amount     Duration\n",
       "count  1000.000000  1000.000000  1000.000000    1000.000000  1000.000000\n",
       "mean    499.500000    35.546000     1.904000    3271.258000    20.903000\n",
       "std     288.819436    11.375469     0.653614    2822.736876    12.058814\n",
       "min       0.000000    19.000000     0.000000     250.000000     4.000000\n",
       "25%     249.750000    27.000000     2.000000    1365.500000    12.000000\n",
       "50%     499.500000    33.000000     2.000000    2319.500000    18.000000\n",
       "75%     749.250000    42.000000     2.000000    3972.250000    24.000000\n",
       "max     999.000000    75.000000     3.000000   18424.000000    72.000000"
      ]
     },
     "execution_count": 5,
     "metadata": {},
     "output_type": "execute_result"
    }
   ],
   "source": [
    "# generating a statistical summary of numerical variables\n",
    "df.describe()"
   ]
  },
  {
   "cell_type": "markdown",
   "metadata": {
    "id": "s7AhAiFk4jM1"
   },
   "source": [
    "**Observation:** We can see that we not have any missing values since all variables have the same no. of count."
   ]
  },
  {
   "cell_type": "code",
   "execution_count": 6,
   "metadata": {
    "colab": {
     "base_uri": "https://localhost:8080/",
     "height": 221
    },
    "id": "SPFv02pk585O",
    "outputId": "8d0a2cc0-3560-4fc9-ae48-1a93afbc8ead"
   },
   "outputs": [
    {
     "data": {
      "text/plain": [
       "Unnamed: 0           int64\n",
       "Age                  int64\n",
       "Sex                 object\n",
       "Job                  int64\n",
       "Housing             object\n",
       "Saving accounts     object\n",
       "Checking account    object\n",
       "Credit amount        int64\n",
       "Duration             int64\n",
       "Purpose             object\n",
       "Risk                object\n",
       "dtype: object"
      ]
     },
     "execution_count": 6,
     "metadata": {},
     "output_type": "execute_result"
    }
   ],
   "source": [
    "# checking the data types: Object = string, int64 = integers\n",
    "df.dtypes"
   ]
  },
  {
   "cell_type": "code",
   "execution_count": 7,
   "metadata": {
    "id": "r-Dlk4TUPBlL"
   },
   "outputs": [],
   "source": [
    "# dropping 'Unnamed: 0' variable: \n",
    "df = df.drop(columns = ['Unnamed: 0'])"
   ]
  },
  {
   "cell_type": "markdown",
   "metadata": {
    "id": "UE9CmUaIPDd6"
   },
   "source": [
    "We drop this variable because it has no meaning."
   ]
  },
  {
   "cell_type": "code",
   "execution_count": 8,
   "metadata": {
    "colab": {
     "base_uri": "https://localhost:8080/",
     "height": 1000
    },
    "id": "BiihvKotNgak",
    "outputId": "5ebd195f-1eda-4c26-b0fd-14a2bcee6977"
   },
   "outputs": [
    {
     "name": "stdout",
     "output_type": "stream",
     "text": [
      "Variable: Age\n",
      "Number of unique values: 53\n",
      "[67 22 49 45 53 35 61 28 25 24 60 32 44 31 48 26 36 39 42 34 63 27 30 57\n",
      " 33 37 58 23 29 52 50 46 51 41 40 66 47 56 54 20 21 38 70 65 74 68 43 55\n",
      " 64 75 19 62 59]\n",
      "\n",
      "Variable: Sex\n",
      "Number of unique values: 2\n",
      "['male' 'female']\n",
      "\n",
      "Variable: Job\n",
      "Number of unique values: 4\n",
      "[2 1 3 0]\n",
      "\n",
      "Variable: Housing\n",
      "Number of unique values: 3\n",
      "['own' 'free' 'rent']\n",
      "\n",
      "Variable: Saving accounts\n",
      "Number of unique values: 4\n",
      "[nan 'little' 'quite rich' 'rich' 'moderate']\n",
      "\n",
      "Variable: Checking account\n",
      "Number of unique values: 3\n",
      "['little' 'moderate' nan 'rich']\n",
      "\n",
      "Variable: Credit amount\n",
      "Number of unique values: 921\n",
      "[ 1169  5951  2096  7882  4870  9055  2835  6948  3059  5234  1295  4308\n",
      "  1567  1199  1403  1282  2424  8072 12579  3430  2134  2647  2241  1804\n",
      "  2069  1374   426   409  2415  6836  1913  4020  5866  1264  1474  4746\n",
      "  6110  2100  1225   458  2333  1158  6204  6187  6143  1393  2299  1352\n",
      "  7228  2073  5965  1262  3378  2225   783  6468  9566  1961  6229  1391\n",
      "  1537  1953 14421  3181  5190  2171  1007  1819  2394  8133   730  1164\n",
      "  5954  1977  1526  3965  4771  9436  3832  5943  1213  1568  1755  2315\n",
      "  1412 12612  2249  1108   618  1409   797  3617  1318 15945  2012  2622\n",
      "  2337  7057  1469  2323   932  1919  2445 11938  6458  6078  7721  1410\n",
      "  1449   392  6260  7855  1680  3578  7174  2132  4281  2366  1835  3868\n",
      "  1768   781  1924  2121   701   639  1860  3499  8487  6887  2708  1984\n",
      " 10144  1240  8613   766  2728  1881   709  4795  3416  2462  2288  3566\n",
      "   860   682  5371  1582  1346  5848  7758  6967  1288   339  3512  1898\n",
      "  2872  1055  7308   909  2978  1131  1577  3972  1935   950   763  2064\n",
      "  1414  3414  7485  2577   338  1963   571  9572  4455  1647  3777   884\n",
      "  1360  5129  1175   674  3244  4591  3844  3915  2108  3031  1501  1382\n",
      "   951  2760  4297   936  1168  5117   902  1495 10623  1424  6568  1413\n",
      "  3074  3835  5293  1908  3342  3104  3913  3021  1364   625  1200   707\n",
      "  4657  2613 10961  7865  1478  3149  4210  2507  2141   866  1544  1823\n",
      " 14555  2767  1291  2522   915  1595  4605  1185  3447  1258   717  1204\n",
      "  1925   433   666  2251  2150  4151  2030  7418  2684  2149  3812  1154\n",
      "  1657  1603  5302  2748  1231   802  6304  1533  8978   999  2662  1402\n",
      " 12169  3060 11998  2697  2404  4611  1901  3368  1574  1445  1520  3878\n",
      " 10722  4788  7582  1092  1024  1076  9398  6419  4796  7629  9960  4675\n",
      "  1287  2515  2745   672  3804  1344  1038 10127  1543  4811   727  1237\n",
      "   276  5381  5511  3749   685  1494  2746   708  4351  3643  4249  1938\n",
      "  2910  2659  1028  3398  5801  1525  4473  1068  6615  1864  7408 11590\n",
      "  4110  3384  2101  1275  4169  1521  5743  3599  3213  4439  3949  1459\n",
      "   882  3758  1743  1136  1236   959  3229  6199  1246  2331  4463   776\n",
      "  2406  1239  3399  2247  1766  2473  1542  3850  3650  3446  3001  3079\n",
      "  6070  2146 13756 14782  7685  2320   846 14318   362  2212 12976  1283\n",
      "  1330  4272  2238  1126  7374  2326  1820   983  3249  1957 11760  2578\n",
      "  2348  1223  1516  1473  1887  8648  2899  2039  2197  1053  3235   939\n",
      "  1967  7253  2292  1597  1381  5842  2579  8471  2782  1042  3186  2028\n",
      "   958  1591  2762  2779  2743  1149  1313  1190  3448 11328  1872  2058\n",
      "  2136  1484   660  3394   609  1884  1620  2629   719  5096  1244  1842\n",
      "  2576  1512 11054   518  2759  2670  4817  2679  3905  3386   343  4594\n",
      "  3620  1721  3017   754  1950  2924  1659  7238  2764  4679  3092   448\n",
      "   654  1238  1245  3114  2569  5152  1037  3573  1201  3622   960  1163\n",
      "  1209  3077  3757  1418  3518  1934  8318   368  2122  2996  9034  1585\n",
      "  1301  1323  3123  5493  1216  1207  1309  2360  6850  8588   759  4686\n",
      "  2687   585  2255  1361  7127  1203   700  5507  3190  7119  3488  1113\n",
      "  7966  1532  1503  2302   662  2273  2631  1311  3105  2319  3612  7763\n",
      "  3049  1534  2032  6350  2864  1255  1333  2022  1552   626  8858   996\n",
      "  1750  6999  1995  1331  2278  5003  3552  1928  2964  1546   683 12389\n",
      "  4712  1553  1372  3979  6758  3234  5433   806  1082  2788  2930  1927\n",
      "  2820   937  1056  3124  1388  2384  2133  2799  1289  1217  2246   385\n",
      "  1965  1572  2718  1358   931  1442  4241  2775  3863  2329   918  1837\n",
      "  3349  2828  4526  2671  2051  1300   741  3357  3632  1808 12204  9157\n",
      "  3676  3441   640  3652  1530  3914  1858  2600  1979  2116  1437  4042\n",
      "  3660  1444  1980  1355  1376 15653  1493  4370   750  1308  4623  1851\n",
      "  1880  7980  4583  1386   947   684  7476  1922  2303  8086  2346  3973\n",
      "   888 10222  4221  6361  1297   900  1050  1047  6314  3496  3609  4843\n",
      "  4139  5742 10366  2080  2580  4530  5150  5595  1453  1538  2279  5103\n",
      "  9857  6527  1347  2862  2753  3651   975  2896  4716  2284  1103   926\n",
      "  1800  1905  1123  6331  1377  2503  2528  5324  6560  2969  1206  2118\n",
      "   629  1198  2476  1138 14027  7596  1505  3148  6148  1337  1228   790\n",
      "  2570   250  1316  1882  6416  6403  1987   760  2603  3380  3990 11560\n",
      "  4380  6761  4280  2325  1048  3160  2483 14179  1797  2511  1274  5248\n",
      "  3029   428   976   841  5771  1555  1285  1299  1271   691  5045  2124\n",
      "  2214 12680  2463  1155  3108  2901  1655  2812  8065  3275  2223  1480\n",
      "  1371  3535  3509  5711  3872  4933  1940   836  1941  2675  2751  6224\n",
      "  5998  1188  6313  1221  2892  3062  2301  7511  1549  1795  7472  9271\n",
      "   590   930  9283  1778   907   484  9629  3051  3931  7432  1338  1554\n",
      " 15857  1345  1101  3016  2712   731  3780  1602  3966  4165  8335  6681\n",
      "  2375 11816  5084  2327   886   601  2957  2611  5179  2993  1943  1559\n",
      "  3422  3976  1249  2235  1471 10875   894  3343  3959  3577  5804  2169\n",
      "  2439  2210  2221  2389  3331  7409   652  7678  1343   874  3590  1322\n",
      "  3595  1422  6742  7814  9277  2181  1098  4057   795  2825 15672  6614\n",
      "  7824  2442  1829  5800  8947  2606  1592  2186  4153  2625  3485 10477\n",
      "  1278  1107  3763  3711  3594  3195  4454  4736  2991  2142  3161 18424\n",
      "  2848 14896  2359  3345  1817 12749  1366  2002  6872   697  1049 10297\n",
      "  1867  1747  1670  1224   522  1498   745  2063  6288  6842  3527   929\n",
      "  1455  1845  8358  2859  3621  2145  4113 10974  1893  3656  4006  3069\n",
      "  1740  2353  3556  2397   454  1715  2520  3568  7166  3939  1514  7393\n",
      "  1193  7297  2831   753  2427  2538  8386  4844  2923  8229  1433  6289\n",
      "  6579  3565  1569  1936  2390  1736  3857   804  4576]\n",
      "\n",
      "Variable: Duration\n",
      "Number of unique values: 33\n",
      "[ 6 48 12 42 24 36 30 15  9 10  7 60 18 45 11 27  8 54 20 14 33 21 16  4\n",
      " 47 13 22 39 28  5 26 72 40]\n",
      "\n",
      "Variable: Purpose\n",
      "Number of unique values: 8\n",
      "['radio/TV' 'education' 'furniture/equipment' 'car' 'business'\n",
      " 'domestic appliances' 'repairs' 'vacation/others']\n",
      "\n",
      "Variable: Risk\n",
      "Number of unique values: 2\n",
      "['good' 'bad']\n",
      "\n"
     ]
    }
   ],
   "source": [
    "# getting the unique values of each variable\n",
    "cols = df.columns.to_list()\n",
    "\n",
    "for col in cols:\n",
    "    print(\"Variable:\", col)\n",
    "    print(\"Number of unique values:\", df[col].nunique())\n",
    "    print(df[col].unique())\n",
    "    print()"
   ]
  },
  {
   "cell_type": "markdown",
   "metadata": {
    "id": "mjiFDjoqPSxS"
   },
   "source": [
    "**Observation:** This gives us a sense of which unique values exists within our variables. We can see that the savings account variable has a nan unique value. This is a hint that we have missing values."
   ]
  },
  {
   "cell_type": "code",
   "execution_count": 9,
   "metadata": {
    "colab": {
     "base_uri": "https://localhost:8080/",
     "height": 204
    },
    "id": "wXNroKd1SGts",
    "outputId": "644cf5f8-2402-47d9-a7cf-82b8c7cf9fdf"
   },
   "outputs": [
    {
     "data": {
      "text/plain": [
       "Age                   0\n",
       "Sex                   0\n",
       "Job                   0\n",
       "Housing               0\n",
       "Saving accounts     183\n",
       "Checking account    394\n",
       "Credit amount         0\n",
       "Duration              0\n",
       "Purpose               0\n",
       "Risk                  0\n",
       "dtype: int64"
      ]
     },
     "execution_count": 9,
     "metadata": {},
     "output_type": "execute_result"
    }
   ],
   "source": [
    "# check for missing values\n",
    "df.isna().sum()"
   ]
  },
  {
   "cell_type": "markdown",
   "metadata": {
    "id": "yVk1gtivSQcq"
   },
   "source": [
    "**Observation:** It seems that we have lots of missing values in the Savings accounts and Checking account variables. From the dataset, we can infer that the missing values are as a result of having persons who took credit from the bank but didn't have a savings accounts or checking account. Thus, we will save these missing values as \"NoSavingAccount\" and \"NoCheckingAccount\"."
   ]
  },
  {
   "cell_type": "code",
   "execution_count": 10,
   "metadata": {
    "id": "7S6PqdxMfPCd"
   },
   "outputs": [],
   "source": [
    "# dealing with missing values\n",
    "df[\"Saving accounts\"].fillna('NoSavingAcc', inplace= True)\n",
    "df[\"Checking account\"].fillna('NoCheckAcc', inplace= True)"
   ]
  },
  {
   "cell_type": "code",
   "execution_count": 11,
   "metadata": {
    "colab": {
     "base_uri": "https://localhost:8080/",
     "height": 204
    },
    "id": "ziUNDtRwfaL7",
    "outputId": "9153df3c-b5f2-4a70-c2df-c0094e5f37fd"
   },
   "outputs": [
    {
     "data": {
      "text/plain": [
       "Age                 0\n",
       "Sex                 0\n",
       "Job                 0\n",
       "Housing             0\n",
       "Saving accounts     0\n",
       "Checking account    0\n",
       "Credit amount       0\n",
       "Duration            0\n",
       "Purpose             0\n",
       "Risk                0\n",
       "dtype: int64"
      ]
     },
     "execution_count": 11,
     "metadata": {},
     "output_type": "execute_result"
    }
   ],
   "source": [
    "# check for missing values\n",
    "df.isna().sum()"
   ]
  },
  {
   "cell_type": "markdown",
   "metadata": {
    "id": "O3dQrxlmferG"
   },
   "source": [
    "**Observation:** We have no missing values. "
   ]
  },
  {
   "cell_type": "code",
   "execution_count": 12,
   "metadata": {
    "colab": {
     "base_uri": "https://localhost:8080/",
     "height": 483
    },
    "id": "xQu8odLFNwBg",
    "outputId": "400fb2c0-8ad2-4665-b452-9638f0f0ffa6"
   },
   "outputs": [
    {
     "data": {
      "image/png": "[encoded data removed]",
      "text/plain": [
       "<Figure size 1008x576 with 1 Axes>"
      ]
     },
     "metadata": {
      "needs_background": "light"
     },
     "output_type": "display_data"
    }
   ],
   "source": [
    "# checking for outliers\n",
    "plt.figure(figsize = (14, 8))\n",
    "df.boxplot()\n",
    "plt.show()"
   ]
  },
  {
   "cell_type": "markdown",
   "metadata": {
    "id": "e2izvGHSUyah"
   },
   "source": [
    "**Observation:** We see that the credit amount variable has outliers. This would be problematic when using a classification technique like logistic regression which assume that there are no outliers in the data. However, we will not remove these outliers as this data can be genuine."
   ]
  },
  {
   "cell_type": "code",
   "execution_count": 13,
   "metadata": {
    "colab": {
     "base_uri": "https://localhost:8080/",
     "height": 68
    },
    "id": "vc7BV_k3gFQN",
    "outputId": "14c71444-f865-4702-f899-c5f8e496cab7"
   },
   "outputs": [
    {
     "data": {
      "text/plain": [
       "Index(['age', 'sex', 'job', 'housing', 'saving_accounts', 'checking_account',\n",
       "       'credit_amount', 'duration', 'purpose', 'risk'],\n",
       "      dtype='object')"
      ]
     },
     "execution_count": 13,
     "metadata": {},
     "output_type": "execute_result"
    }
   ],
   "source": [
    "# standardizing variable names for readability\n",
    "df.columns = df.columns.str.strip().str.lower().str.replace(' ', '_').str.replace('(', '').str.replace(')', '')\n",
    "df.columns"
   ]
  },
  {
   "cell_type": "markdown",
   "metadata": {
    "id": "fOeGMQ_0untP"
   },
   "source": [
    " We will no perform univariate analysis. This is a type of analysis done only one variable. This type of analysis will be helpful in understanding the characteristics of each variables."
   ]
  },
  {
   "cell_type": "code",
   "execution_count": 14,
   "metadata": {
    "colab": {
     "base_uri": "https://localhost:8080/",
     "height": 281
    },
    "id": "Yv2P35z2Ogpw",
    "outputId": "dde0eb7b-1cdb-4e97-d168-0294a8d4a08c"
   },
   "outputs": [
    {
     "data": {
      "image/png": "[encoded data removed]",
      "text/plain": [
       "<Figure size 432x288 with 1 Axes>"
      ]
     },
     "metadata": {
      "needs_background": "light"
     },
     "output_type": "display_data"
    }
   ],
   "source": [
    "# univariate analysis: age variable\n",
    "sns.distplot(df.age);"
   ]
  },
  {
   "cell_type": "markdown",
   "metadata": {
    "id": "ywDDy4dQh2dK"
   },
   "source": [
    "**Observation:** The 'age' variable is not normally distributed. It is skewed to the right."
   ]
  },
  {
   "cell_type": "code",
   "execution_count": 15,
   "metadata": {
    "colab": {
     "base_uri": "https://localhost:8080/",
     "height": 265
    },
    "id": "y4XDT1d2gduk",
    "outputId": "c0e306cb-63df-4efc-f900-f77b515c8478"
   },
   "outputs": [
    {
     "data": {
      "image/png": "[encoded data removed]",
      "text/plain": [
       "<Figure size 360x288 with 1 Axes>"
      ]
     },
     "metadata": {
      "needs_background": "light"
     },
     "output_type": "display_data"
    }
   ],
   "source": [
    "# univariate analysis: sex variable\n",
    "plt.figure(figsize = (5, 4))\n",
    "df.sex.value_counts().plot(kind = 'bar', rot = 0);"
   ]
  },
  {
   "cell_type": "markdown",
   "metadata": {
    "id": "vm-JKvICu1Ic"
   },
   "source": [
    "**Observation:** There are more male records in our dataset than female records. "
   ]
  },
  {
   "cell_type": "code",
   "execution_count": 16,
   "metadata": {
    "colab": {
     "base_uri": "https://localhost:8080/",
     "height": 265
    },
    "id": "M0BpXA1piylU",
    "outputId": "a6c362af-4292-456a-9c39-22198dcec0cc"
   },
   "outputs": [
    {
     "data": {
      "image/png": "[encoded data removed]",
      "text/plain": [
       "<Figure size 360x288 with 1 Axes>"
      ]
     },
     "metadata": {
      "needs_background": "light"
     },
     "output_type": "display_data"
    }
   ],
   "source": [
    "# univariate analysis: job variable\n",
    "plt.figure(figsize = (5, 4))\n",
    "df.job.value_counts().plot(kind = 'bar', rot = 0);"
   ]
  },
  {
   "cell_type": "markdown",
   "metadata": {
    "id": "KCm6koxvriLv"
   },
   "source": [
    "**Your observation?**"
   ]
  },
  {
   "cell_type": "code",
   "execution_count": 17,
   "metadata": {
    "colab": {
     "base_uri": "https://localhost:8080/",
     "height": 265
    },
    "id": "dPeEPofvjre9",
    "outputId": "98d98ebf-9294-4a8a-9caf-7b039aa5ea70"
   },
   "outputs": [
    {
     "data": {
      "image/png": "[encoded data removed]",
      "text/plain": [
       "<Figure size 360x288 with 1 Axes>"
      ]
     },
     "metadata": {
      "needs_background": "light"
     },
     "output_type": "display_data"
    }
   ],
   "source": [
    "# univariate analysis: housing variable\n",
    "plt.figure(figsize = (5, 4))\n",
    "df.housing.value_counts().plot(kind = 'bar', rot = 0);"
   ]
  },
  {
   "cell_type": "markdown",
   "metadata": {
    "id": "nyEjTpA-rlYd"
   },
   "source": [
    "**Your observation?**"
   ]
  },
  {
   "cell_type": "code",
   "execution_count": 18,
   "metadata": {
    "colab": {
     "base_uri": "https://localhost:8080/",
     "height": 265
    },
    "id": "DAu1zXbbjvnm",
    "outputId": "431fea06-0cf3-410e-8014-f81dd210556c"
   },
   "outputs": [
    {
     "data": {
      "image/png": "[encoded data removed]",
      "text/plain": [
       "<Figure size 576x288 with 1 Axes>"
      ]
     },
     "metadata": {
      "needs_background": "light"
     },
     "output_type": "display_data"
    }
   ],
   "source": [
    "# univariate analysis: checking_account variable\n",
    "plt.figure(figsize = (8, 4))\n",
    "df.saving_accounts.value_counts().plot(kind = 'bar', rot = 0);"
   ]
  },
  {
   "cell_type": "markdown",
   "metadata": {
    "id": "JSC54tUVrmnj"
   },
   "source": [
    "**Your observation?**"
   ]
  },
  {
   "cell_type": "code",
   "execution_count": 19,
   "metadata": {
    "colab": {
     "base_uri": "https://localhost:8080/",
     "height": 265
    },
    "id": "jtbwVqJVjzoT",
    "outputId": "3b3cf891-51f7-4a41-f211-5a3a883dcdde"
   },
   "outputs": [
    {
     "data": {
      "image/png": "[encoded data removed]",
      "text/plain": [
       "<Figure size 360x288 with 1 Axes>"
      ]
     },
     "metadata": {
      "needs_background": "light"
     },
     "output_type": "display_data"
    }
   ],
   "source": [
    "# univariate analysis: checking_account variable\n",
    "plt.figure(figsize = (5, 4))\n",
    "df.checking_account.value_counts().plot(kind = 'bar', rot = 0);"
   ]
  },
  {
   "cell_type": "markdown",
   "metadata": {
    "id": "b9jZrzuhrn1w"
   },
   "source": [
    "**Your observation?**"
   ]
  },
  {
   "cell_type": "code",
   "execution_count": 20,
   "metadata": {
    "colab": {
     "base_uri": "https://localhost:8080/",
     "height": 280
    },
    "id": "aHsLL97Wj-jC",
    "outputId": "4ad44a15-444d-409f-933f-9bc7a8b81a07"
   },
   "outputs": [
    {
     "data": {
      "image/png": "[encoded data removed]",
      "text/plain": [
       "<Figure size 432x288 with 1 Axes>"
      ]
     },
     "metadata": {
      "needs_background": "light"
     },
     "output_type": "display_data"
    }
   ],
   "source": [
    "# univariate analysis: credit_amount variable\n",
    "sns.distplot(df.credit_amount);"
   ]
  },
  {
   "cell_type": "markdown",
   "metadata": {
    "id": "zCVs3GnZroy9"
   },
   "source": [
    "**Your observation?**"
   ]
  },
  {
   "cell_type": "code",
   "execution_count": 21,
   "metadata": {
    "colab": {
     "base_uri": "https://localhost:8080/",
     "height": 375
    },
    "id": "-fEhmb2HkCgl",
    "outputId": "f00fdbbf-d858-42cd-d1db-ba10a0c75b5f"
   },
   "outputs": [
    {
     "data": {
      "image/png": "[encoded data removed]",
      "text/plain": [
       "<Figure size 1080x432 with 1 Axes>"
      ]
     },
     "metadata": {
      "needs_background": "light"
     },
     "output_type": "display_data"
    }
   ],
   "source": [
    "# univariate analysis: purpose variable\n",
    "plt.figure(figsize = (15, 6))\n",
    "df.purpose.value_counts().plot(kind = 'bar', rot = 0);"
   ]
  },
  {
   "cell_type": "markdown",
   "metadata": {
    "id": "DrcbkPFDrp-C"
   },
   "source": [
    "**Your observation?**"
   ]
  },
  {
   "cell_type": "code",
   "execution_count": 22,
   "metadata": {
    "colab": {
     "base_uri": "https://localhost:8080/",
     "height": 279
    },
    "id": "Ja2MYz2HkGDG",
    "outputId": "06e9cb63-8a5a-41dd-c5fa-1922338688aa"
   },
   "outputs": [
    {
     "data": {
      "image/png": "[encoded data removed]",
      "text/plain": [
       "<Figure size 432x288 with 1 Axes>"
      ]
     },
     "metadata": {
      "needs_background": "light"
     },
     "output_type": "display_data"
    }
   ],
   "source": [
    "# univariate analysis: duration variable\n",
    "sns.distplot(df.duration); "
   ]
  },
  {
   "cell_type": "code",
   "execution_count": 23,
   "metadata": {
    "colab": {
     "base_uri": "https://localhost:8080/",
     "height": 265
    },
    "id": "_pIvBm7ykLnO",
    "outputId": "b1454ca6-7388-4266-91da-f33d53ca7291"
   },
   "outputs": [
    {
     "data": {
      "image/png": "[encoded data removed]",
      "text/plain": [
       "<Figure size 360x288 with 1 Axes>"
      ]
     },
     "metadata": {
      "needs_background": "light"
     },
     "output_type": "display_data"
    }
   ],
   "source": [
    "# univariate analysis: purpose variable\n",
    "plt.figure(figsize = (5, 4))\n",
    "df.risk.value_counts().plot(kind = 'bar', rot = 0);"
   ]
  },
  {
   "cell_type": "markdown",
   "metadata": {
    "id": "gdj-rP3RvF38"
   },
   "source": [
    "We now perform bivariate analysis, which is a type of analysis that involves two variables. The main objective is to understand the relationships between these two types of variables."
   ]
  },
  {
   "cell_type": "markdown",
   "metadata": {
    "id": "0GQWv61lUybk"
   },
   "source": [
    "We will look at the relationship between our target variable 'risk' and the other variables."
   ]
  },
  {
   "cell_type": "code",
   "execution_count": 24,
   "metadata": {
    "colab": {
     "base_uri": "https://localhost:8080/",
     "height": 334
    },
    "id": "BubQ9fl4nuD_",
    "outputId": "0aa1692e-0d64-4639-e4fd-6e3dd0ccb585"
   },
   "outputs": [
    {
     "data": {
      "image/png": "[encoded data removed]",
      "text/plain": [
       "<Figure size 432x360 with 1 Axes>"
      ]
     },
     "metadata": {
      "needs_background": "light"
     },
     "output_type": "display_data"
    }
   ],
   "source": [
    "# bivariate analysis: risk by sex variables\n",
    "plt.figure(figsize = (6, 5))\n",
    "sns.countplot('sex', hue = 'risk', data = df);"
   ]
  },
  {
   "cell_type": "code",
   "execution_count": 25,
   "metadata": {
    "colab": {
     "base_uri": "https://localhost:8080/",
     "height": 334
    },
    "id": "8HaqKlIkmw9E",
    "outputId": "8e274293-11ee-49e7-a4c8-95fd09f9b8ea"
   },
   "outputs": [
    {
     "data": {
      "image/png": "[encoded data removed]",
      "text/plain": [
       "<Figure size 432x360 with 1 Axes>"
      ]
     },
     "metadata": {
      "needs_background": "light"
     },
     "output_type": "display_data"
    }
   ],
   "source": [
    "# risk by job variables\n",
    "plt.figure(figsize = (6, 5))\n",
    "sns.countplot('job', hue = 'risk', data = df);"
   ]
  },
  {
   "cell_type": "code",
   "execution_count": 26,
   "metadata": {
    "colab": {
     "base_uri": "https://localhost:8080/",
     "height": 334
    },
    "id": "_M9qKruNndm5",
    "outputId": "bd381806-40c3-4b2d-fafe-17ab61d482c4"
   },
   "outputs": [
    {
     "data": {
      "image/png": "[encoded data removed]",
      "text/plain": [
       "<Figure size 432x360 with 1 Axes>"
      ]
     },
     "metadata": {
      "needs_background": "light"
     },
     "output_type": "display_data"
    }
   ],
   "source": [
    "# risk by housing variables\n",
    "plt.figure(figsize = (6, 5))\n",
    "sns.countplot('housing', hue = 'risk', data = df);"
   ]
  },
  {
   "cell_type": "code",
   "execution_count": 27,
   "metadata": {
    "colab": {
     "base_uri": "https://localhost:8080/",
     "height": 335
    },
    "id": "BPJyZHqonlJK",
    "outputId": "615be7bb-d932-4bce-83a8-741cab5ad808"
   },
   "outputs": [
    {
     "data": {
      "image/png": "[encoded data removed]",
      "text/plain": [
       "<Figure size 432x360 with 1 Axes>"
      ]
     },
     "metadata": {
      "needs_background": "light"
     },
     "output_type": "display_data"
    }
   ],
   "source": [
    "# risk by checking_account variables\n",
    "plt.figure(figsize = (6, 5))\n",
    "sns.countplot('checking_account', hue = 'risk', data = df);"
   ]
  },
  {
   "cell_type": "code",
   "execution_count": 28,
   "metadata": {
    "colab": {
     "base_uri": "https://localhost:8080/",
     "height": 334
    },
    "id": "jG8pmjKDoZ69",
    "outputId": "e93a5558-eef0-4e25-fbec-6c10db179994"
   },
   "outputs": [
    {
     "data": {
      "image/png": "[encoded data removed]",
      "text/plain": [
       "<Figure size 1080x360 with 1 Axes>"
      ]
     },
     "metadata": {
      "needs_background": "light"
     },
     "output_type": "display_data"
    }
   ],
   "source": [
    "# risk by purpose variables\n",
    "plt.figure(figsize = (15, 5))\n",
    "sns.countplot('purpose', hue = 'risk', data = df);"
   ]
  },
  {
   "cell_type": "code",
   "execution_count": 29,
   "metadata": {
    "colab": {
     "base_uri": "https://localhost:8080/",
     "height": 488
    },
    "id": "2KLwRq0fqgtk",
    "outputId": "583d3f9b-6106-42d2-e5a1-15ee640b2204"
   },
   "outputs": [
    {
     "data": {
      "image/png": "[encoded data removed]",
      "text/plain": [
       "<Figure size 576x576 with 2 Axes>"
      ]
     },
     "metadata": {
      "needs_background": "light"
     },
     "output_type": "display_data"
    }
   ],
   "source": [
    "# heatmap to visualise features with linear relationships \n",
    "plt.figure(figsize = (8, 8))\n",
    "sns.heatmap(df.corr(), annot=True, );"
   ]
  },
  {
   "cell_type": "markdown",
   "metadata": {
    "id": "9jpgWkx_rn6S"
   },
   "source": [
    "**Observation:** The variables duration and credit amount are strongly correlated. "
   ]
  },
  {
   "cell_type": "markdown",
   "metadata": {
    "id": "AW8i6nAy4PM6"
   },
   "source": [
    "#### Data Preparation"
   ]
  },
  {
   "cell_type": "markdown",
   "metadata": {
    "id": "0WUfpprG65S4"
   },
   "source": [
    "In order to work with our target variable, which is the risk variable, we will binarize our risk variable. Labels are as follows: 0: Bad 1: Good. "
   ]
  },
  {
   "cell_type": "code",
   "execution_count": 30,
   "metadata": {
    "id": "t8-3y1QC6_PL"
   },
   "outputs": [],
   "source": [
    "# LabelBinarizer converts the string categorical variable to binary \n",
    "from sklearn.preprocessing import LabelBinarizer\n",
    "lb= LabelBinarizer()\n",
    "df[\"risk\"]= lb.fit_transform(df[\"risk\"])"
   ]
  },
  {
   "cell_type": "code",
   "execution_count": 31,
   "metadata": {
    "colab": {
     "base_uri": "https://localhost:8080/",
     "height": 279
    },
    "id": "FXrSCsse62e6",
    "outputId": "48752faa-2326-41a9-c0c1-4d5a4614f047"
   },
   "outputs": [
    {
     "data": {
      "image/png": "[encoded data removed]",
      "text/plain": [
       "<Figure size 432x288 with 1 Axes>"
      ]
     },
     "metadata": {
      "needs_background": "light"
     },
     "output_type": "display_data"
    }
   ],
   "source": [
    "# plotting risk distribution to understand whether there are more records \n",
    "# with more categories than the other.\n",
    "sns.countplot('risk', data = df);"
   ]
  },
  {
   "cell_type": "markdown",
   "metadata": {
    "id": "793cdUTc8XD0"
   },
   "source": [
    "**Observation:** We note that our dataset is highly inbalanced. We need to make sure that our dataset is balanced which means, we need to have the same no. of records with the 0 and 1 class. We will address this issue later."
   ]
  },
  {
   "cell_type": "markdown",
   "metadata": {
    "id": "heOmjB4W8rPV"
   },
   "source": [
    "For now, in order to prepare our dataset for our model, we will perform binning on the numerical variables i.e. duration, age and credit amount variables. Once we perform binning, we will later perform one hot encoding to all the categorical variables within our dataset."
   ]
  },
  {
   "cell_type": "code",
   "execution_count": 32,
   "metadata": {
    "id": "gW3AYFbt8pwQ"
   },
   "outputs": [],
   "source": [
    "# performing binning on duration \n",
    "# we bin by specifying 6 bins\n",
    "df[\"duration\"] = pd.qcut(df.duration, q = 6)"
   ]
  },
  {
   "cell_type": "code",
   "execution_count": 33,
   "metadata": {
    "id": "V2DcomIR80y_"
   },
   "outputs": [],
   "source": [
    "# performing binning on age\n",
    "# we bin by defining the intervals and categories\n",
    "interval = (18, 25, 35, 60, 120)\n",
    "categories = ['student', 'youth', 'adult', 'senior']\n",
    "df[\"age\"] = pd.cut(df.age, interval, labels = categories)"
   ]
  },
  {
   "cell_type": "code",
   "execution_count": 34,
   "metadata": {
    "id": "SmkCKK9uJFxl"
   },
   "outputs": [],
   "source": [
    "# performing binning on credit_amount\n",
    "# this time we bin without specifying i.e. we create 6 bins\n",
    "df[\"credit_amount\"] = pd.qcut(df.credit_amount, q = 5)"
   ]
  },
  {
   "cell_type": "markdown",
   "metadata": {
    "id": "VlsQQnU6tBPS"
   },
   "source": [
    "We will now transform our features into dummy variables by one-hot encoding the features in our dataset. This will make our features robust for our linear regression model."
   ]
  },
  {
   "cell_type": "code",
   "execution_count": 35,
   "metadata": {
    "id": "fZPQykjhKUyi"
   },
   "outputs": [],
   "source": [
    "# performing one hot encoding to the purpose variable\n",
    "df = df.merge(pd.get_dummies(df.job, drop_first=True, prefix='job'), left_index=True, right_index=True)\n"
   ]
  },
  {
   "cell_type": "code",
   "execution_count": 36,
   "metadata": {
    "id": "bQt5EO2P5k7s"
   },
   "outputs": [],
   "source": [
    "# performing one hot encoding to the purpose variable\n",
    "df = df.merge(pd.get_dummies(df.purpose, drop_first=True, prefix='purpose'), left_index=True, right_index=True)\n"
   ]
  },
  {
   "cell_type": "code",
   "execution_count": 37,
   "metadata": {
    "id": "cOBxpxT86C6P"
   },
   "outputs": [],
   "source": [
    "# performing one hot encoding to the sex variable\n",
    "df = df.merge(pd.get_dummies(df.sex, drop_first=True, prefix='sex'), left_index=True, right_index=True)\n"
   ]
  },
  {
   "cell_type": "code",
   "execution_count": 38,
   "metadata": {
    "id": "zYk0o2E76E67"
   },
   "outputs": [],
   "source": [
    "# performing one hot encoding to the housing variable\n",
    "df = df.merge(pd.get_dummies(df.housing, drop_first=True, prefix='housing'), left_index=True, right_index=True)\n"
   ]
  },
  {
   "cell_type": "code",
   "execution_count": 39,
   "metadata": {
    "id": "h-WxDq1o6HOG"
   },
   "outputs": [],
   "source": [
    "# performing one hot encoding to the savings account variable\n",
    "df = df.merge(pd.get_dummies(df.saving_accounts, drop_first=True, prefix='savings'), left_index=True, right_index=True)\n"
   ]
  },
  {
   "cell_type": "code",
   "execution_count": 40,
   "metadata": {
    "id": "8uB8sOjh6KOz"
   },
   "outputs": [],
   "source": [
    "# performing one hot encoding to checking account variable\n",
    "df = df.merge(pd.get_dummies(df.checking_account, drop_first=True, prefix='check'), left_index=True, right_index=True)\n"
   ]
  },
  {
   "cell_type": "code",
   "execution_count": 41,
   "metadata": {
    "id": "41xOwEPi6MPc"
   },
   "outputs": [],
   "source": [
    "# performing one hot encoding to age variable\n",
    "df = df.merge(pd.get_dummies(df.age, drop_first=True, prefix='age'), left_index=True, right_index=True)"
   ]
  },
  {
   "cell_type": "code",
   "execution_count": 42,
   "metadata": {
    "id": "sY_as3R__2dL"
   },
   "outputs": [],
   "source": [
    "# performing one hot encoding to age variable\n",
    "df = df.merge(pd.get_dummies(df.duration, drop_first=True, prefix='duration'), left_index=True, right_index=True)"
   ]
  },
  {
   "cell_type": "code",
   "execution_count": 43,
   "metadata": {
    "id": "NyH3noHyJmR5"
   },
   "outputs": [],
   "source": [
    "# performing one hot encoding to credit amount variable\n",
    "df = df.merge(pd.get_dummies(df.credit_amount, drop_first=True, prefix='credit_amount'), left_index=True, right_index=True)"
   ]
  },
  {
   "cell_type": "code",
   "execution_count": 44,
   "metadata": {
    "colab": {
     "base_uri": "https://localhost:8080/",
     "height": 326
    },
    "id": "s51JILRI_hNd",
    "outputId": "4df90c01-5e95-46b4-a8f1-25b089160b28"
   },
   "outputs": [
    {
     "data": {
      "text/html": [
       "<div>\n",
       "<style scoped>\n",
       "    .dataframe tbody tr th:only-of-type {\n",
       "        vertical-align: middle;\n",
       "    }\n",
       "\n",
       "    .dataframe tbody tr th {\n",
       "        vertical-align: top;\n",
       "    }\n",
       "\n",
       "    .dataframe thead th {\n",
       "        text-align: right;\n",
       "    }\n",
       "</style>\n",
       "<table border=\"1\" class=\"dataframe\">\n",
       "  <thead>\n",
       "    <tr style=\"text-align: right;\">\n",
       "      <th></th>\n",
       "      <th>age</th>\n",
       "      <th>sex</th>\n",
       "      <th>job</th>\n",
       "      <th>housing</th>\n",
       "      <th>saving_accounts</th>\n",
       "      <th>checking_account</th>\n",
       "      <th>credit_amount</th>\n",
       "      <th>duration</th>\n",
       "      <th>purpose</th>\n",
       "      <th>risk</th>\n",
       "      <th>...</th>\n",
       "      <th>age_senior</th>\n",
       "      <th>duration_(10.0, 12.0]</th>\n",
       "      <th>duration_(12.0, 18.0]</th>\n",
       "      <th>duration_(18.0, 24.0]</th>\n",
       "      <th>duration_(24.0, 36.0]</th>\n",
       "      <th>duration_(36.0, 72.0]</th>\n",
       "      <th>credit_amount_(1262.0, 1906.8]</th>\n",
       "      <th>credit_amount_(1906.8, 2852.4]</th>\n",
       "      <th>credit_amount_(2852.4, 4720.0]</th>\n",
       "      <th>credit_amount_(4720.0, 18424.0]</th>\n",
       "    </tr>\n",
       "  </thead>\n",
       "  <tbody>\n",
       "    <tr>\n",
       "      <th>0</th>\n",
       "      <td>senior</td>\n",
       "      <td>male</td>\n",
       "      <td>2</td>\n",
       "      <td>own</td>\n",
       "      <td>NoSavingAcc</td>\n",
       "      <td>little</td>\n",
       "      <td>(249.999, 1262.0]</td>\n",
       "      <td>(3.999, 10.0]</td>\n",
       "      <td>radio/TV</td>\n",
       "      <td>1</td>\n",
       "      <td>...</td>\n",
       "      <td>1</td>\n",
       "      <td>0</td>\n",
       "      <td>0</td>\n",
       "      <td>0</td>\n",
       "      <td>0</td>\n",
       "      <td>0</td>\n",
       "      <td>0</td>\n",
       "      <td>0</td>\n",
       "      <td>0</td>\n",
       "      <td>0</td>\n",
       "    </tr>\n",
       "    <tr>\n",
       "      <th>1</th>\n",
       "      <td>student</td>\n",
       "      <td>female</td>\n",
       "      <td>2</td>\n",
       "      <td>own</td>\n",
       "      <td>little</td>\n",
       "      <td>moderate</td>\n",
       "      <td>(4720.0, 18424.0]</td>\n",
       "      <td>(36.0, 72.0]</td>\n",
       "      <td>radio/TV</td>\n",
       "      <td>0</td>\n",
       "      <td>...</td>\n",
       "      <td>0</td>\n",
       "      <td>0</td>\n",
       "      <td>0</td>\n",
       "      <td>0</td>\n",
       "      <td>0</td>\n",
       "      <td>1</td>\n",
       "      <td>0</td>\n",
       "      <td>0</td>\n",
       "      <td>0</td>\n",
       "      <td>1</td>\n",
       "    </tr>\n",
       "    <tr>\n",
       "      <th>2</th>\n",
       "      <td>adult</td>\n",
       "      <td>male</td>\n",
       "      <td>1</td>\n",
       "      <td>own</td>\n",
       "      <td>little</td>\n",
       "      <td>NoCheckAcc</td>\n",
       "      <td>(1906.8, 2852.4]</td>\n",
       "      <td>(10.0, 12.0]</td>\n",
       "      <td>education</td>\n",
       "      <td>1</td>\n",
       "      <td>...</td>\n",
       "      <td>0</td>\n",
       "      <td>1</td>\n",
       "      <td>0</td>\n",
       "      <td>0</td>\n",
       "      <td>0</td>\n",
       "      <td>0</td>\n",
       "      <td>0</td>\n",
       "      <td>1</td>\n",
       "      <td>0</td>\n",
       "      <td>0</td>\n",
       "    </tr>\n",
       "    <tr>\n",
       "      <th>3</th>\n",
       "      <td>adult</td>\n",
       "      <td>male</td>\n",
       "      <td>2</td>\n",
       "      <td>free</td>\n",
       "      <td>little</td>\n",
       "      <td>little</td>\n",
       "      <td>(4720.0, 18424.0]</td>\n",
       "      <td>(36.0, 72.0]</td>\n",
       "      <td>furniture/equipment</td>\n",
       "      <td>1</td>\n",
       "      <td>...</td>\n",
       "      <td>0</td>\n",
       "      <td>0</td>\n",
       "      <td>0</td>\n",
       "      <td>0</td>\n",
       "      <td>0</td>\n",
       "      <td>1</td>\n",
       "      <td>0</td>\n",
       "      <td>0</td>\n",
       "      <td>0</td>\n",
       "      <td>1</td>\n",
       "    </tr>\n",
       "    <tr>\n",
       "      <th>4</th>\n",
       "      <td>adult</td>\n",
       "      <td>male</td>\n",
       "      <td>2</td>\n",
       "      <td>free</td>\n",
       "      <td>little</td>\n",
       "      <td>little</td>\n",
       "      <td>(4720.0, 18424.0]</td>\n",
       "      <td>(18.0, 24.0]</td>\n",
       "      <td>car</td>\n",
       "      <td>0</td>\n",
       "      <td>...</td>\n",
       "      <td>0</td>\n",
       "      <td>0</td>\n",
       "      <td>0</td>\n",
       "      <td>1</td>\n",
       "      <td>0</td>\n",
       "      <td>0</td>\n",
       "      <td>0</td>\n",
       "      <td>0</td>\n",
       "      <td>0</td>\n",
       "      <td>1</td>\n",
       "    </tr>\n",
       "  </tbody>\n",
       "</table>\n",
       "<p>5 rows × 42 columns</p>\n",
       "</div>"
      ],
      "text/plain": [
       "       age     sex  job housing saving_accounts checking_account  \\\n",
       "0   senior    male    2     own     NoSavingAcc           little   \n",
       "1  student  female    2     own          little         moderate   \n",
       "2    adult    male    1     own          little       NoCheckAcc   \n",
       "3    adult    male    2    free          little           little   \n",
       "4    adult    male    2    free          little           little   \n",
       "\n",
       "       credit_amount       duration              purpose  risk  ...  \\\n",
       "0  (249.999, 1262.0]  (3.999, 10.0]             radio/TV     1  ...   \n",
       "1  (4720.0, 18424.0]   (36.0, 72.0]             radio/TV     0  ...   \n",
       "2   (1906.8, 2852.4]   (10.0, 12.0]            education     1  ...   \n",
       "3  (4720.0, 18424.0]   (36.0, 72.0]  furniture/equipment     1  ...   \n",
       "4  (4720.0, 18424.0]   (18.0, 24.0]                  car     0  ...   \n",
       "\n",
       "   age_senior  duration_(10.0, 12.0]  duration_(12.0, 18.0]  \\\n",
       "0           1                      0                      0   \n",
       "1           0                      0                      0   \n",
       "2           0                      1                      0   \n",
       "3           0                      0                      0   \n",
       "4           0                      0                      0   \n",
       "\n",
       "   duration_(18.0, 24.0]  duration_(24.0, 36.0]  duration_(36.0, 72.0]  \\\n",
       "0                      0                      0                      0   \n",
       "1                      0                      0                      1   \n",
       "2                      0                      0                      0   \n",
       "3                      0                      0                      1   \n",
       "4                      1                      0                      0   \n",
       "\n",
       "   credit_amount_(1262.0, 1906.8]  credit_amount_(1906.8, 2852.4]  \\\n",
       "0                               0                               0   \n",
       "1                               0                               0   \n",
       "2                               0                               1   \n",
       "3                               0                               0   \n",
       "4                               0                               0   \n",
       "\n",
       "   credit_amount_(2852.4, 4720.0]  credit_amount_(4720.0, 18424.0]  \n",
       "0                               0                                0  \n",
       "1                               0                                1  \n",
       "2                               0                                0  \n",
       "3                               0                                1  \n",
       "4                               0                                1  \n",
       "\n",
       "[5 rows x 42 columns]"
      ]
     },
     "execution_count": 44,
     "metadata": {},
     "output_type": "execute_result"
    }
   ],
   "source": [
    "# previewing our created dataframe\n",
    "df.head()"
   ]
  },
  {
   "cell_type": "code",
   "execution_count": 45,
   "metadata": {
    "id": "vieLd1J_-h0v"
   },
   "outputs": [],
   "source": [
    "# we then cxcluding the missing columns since we have new variables for use\n",
    "del df[\"job\"]\n",
    "del df[\"purpose\"]\n",
    "del df[\"sex\"]\n",
    "del df[\"housing\"]\n",
    "del df[\"saving_accounts\"]\n",
    "del df[\"checking_account\"]\n",
    "del df[\"age\"]\n",
    "del df[\"duration\"]\n",
    "del df[\"credit_amount\"]"
   ]
  },
  {
   "cell_type": "code",
   "execution_count": 46,
   "metadata": {
    "colab": {
     "base_uri": "https://localhost:8080/",
     "height": 241
    },
    "id": "WhA_6bhQtlec",
    "outputId": "02259000-ee77-4344-afce-28100df83761"
   },
   "outputs": [
    {
     "data": {
      "text/html": [
       "<div>\n",
       "<style scoped>\n",
       "    .dataframe tbody tr th:only-of-type {\n",
       "        vertical-align: middle;\n",
       "    }\n",
       "\n",
       "    .dataframe tbody tr th {\n",
       "        vertical-align: top;\n",
       "    }\n",
       "\n",
       "    .dataframe thead th {\n",
       "        text-align: right;\n",
       "    }\n",
       "</style>\n",
       "<table border=\"1\" class=\"dataframe\">\n",
       "  <thead>\n",
       "    <tr style=\"text-align: right;\">\n",
       "      <th></th>\n",
       "      <th>risk</th>\n",
       "      <th>job_1</th>\n",
       "      <th>job_2</th>\n",
       "      <th>job_3</th>\n",
       "      <th>purpose_car</th>\n",
       "      <th>purpose_domestic appliances</th>\n",
       "      <th>purpose_education</th>\n",
       "      <th>purpose_furniture/equipment</th>\n",
       "      <th>purpose_radio/TV</th>\n",
       "      <th>purpose_repairs</th>\n",
       "      <th>...</th>\n",
       "      <th>age_senior</th>\n",
       "      <th>duration_(10.0, 12.0]</th>\n",
       "      <th>duration_(12.0, 18.0]</th>\n",
       "      <th>duration_(18.0, 24.0]</th>\n",
       "      <th>duration_(24.0, 36.0]</th>\n",
       "      <th>duration_(36.0, 72.0]</th>\n",
       "      <th>credit_amount_(1262.0, 1906.8]</th>\n",
       "      <th>credit_amount_(1906.8, 2852.4]</th>\n",
       "      <th>credit_amount_(2852.4, 4720.0]</th>\n",
       "      <th>credit_amount_(4720.0, 18424.0]</th>\n",
       "    </tr>\n",
       "  </thead>\n",
       "  <tbody>\n",
       "    <tr>\n",
       "      <th>0</th>\n",
       "      <td>1</td>\n",
       "      <td>0</td>\n",
       "      <td>1</td>\n",
       "      <td>0</td>\n",
       "      <td>0</td>\n",
       "      <td>0</td>\n",
       "      <td>0</td>\n",
       "      <td>0</td>\n",
       "      <td>1</td>\n",
       "      <td>0</td>\n",
       "      <td>...</td>\n",
       "      <td>1</td>\n",
       "      <td>0</td>\n",
       "      <td>0</td>\n",
       "      <td>0</td>\n",
       "      <td>0</td>\n",
       "      <td>0</td>\n",
       "      <td>0</td>\n",
       "      <td>0</td>\n",
       "      <td>0</td>\n",
       "      <td>0</td>\n",
       "    </tr>\n",
       "    <tr>\n",
       "      <th>1</th>\n",
       "      <td>0</td>\n",
       "      <td>0</td>\n",
       "      <td>1</td>\n",
       "      <td>0</td>\n",
       "      <td>0</td>\n",
       "      <td>0</td>\n",
       "      <td>0</td>\n",
       "      <td>0</td>\n",
       "      <td>1</td>\n",
       "      <td>0</td>\n",
       "      <td>...</td>\n",
       "      <td>0</td>\n",
       "      <td>0</td>\n",
       "      <td>0</td>\n",
       "      <td>0</td>\n",
       "      <td>0</td>\n",
       "      <td>1</td>\n",
       "      <td>0</td>\n",
       "      <td>0</td>\n",
       "      <td>0</td>\n",
       "      <td>1</td>\n",
       "    </tr>\n",
       "    <tr>\n",
       "      <th>2</th>\n",
       "      <td>1</td>\n",
       "      <td>1</td>\n",
       "      <td>0</td>\n",
       "      <td>0</td>\n",
       "      <td>0</td>\n",
       "      <td>0</td>\n",
       "      <td>1</td>\n",
       "      <td>0</td>\n",
       "      <td>0</td>\n",
       "      <td>0</td>\n",
       "      <td>...</td>\n",
       "      <td>0</td>\n",
       "      <td>1</td>\n",
       "      <td>0</td>\n",
       "      <td>0</td>\n",
       "      <td>0</td>\n",
       "      <td>0</td>\n",
       "      <td>0</td>\n",
       "      <td>1</td>\n",
       "      <td>0</td>\n",
       "      <td>0</td>\n",
       "    </tr>\n",
       "    <tr>\n",
       "      <th>3</th>\n",
       "      <td>1</td>\n",
       "      <td>0</td>\n",
       "      <td>1</td>\n",
       "      <td>0</td>\n",
       "      <td>0</td>\n",
       "      <td>0</td>\n",
       "      <td>0</td>\n",
       "      <td>1</td>\n",
       "      <td>0</td>\n",
       "      <td>0</td>\n",
       "      <td>...</td>\n",
       "      <td>0</td>\n",
       "      <td>0</td>\n",
       "      <td>0</td>\n",
       "      <td>0</td>\n",
       "      <td>0</td>\n",
       "      <td>1</td>\n",
       "      <td>0</td>\n",
       "      <td>0</td>\n",
       "      <td>0</td>\n",
       "      <td>1</td>\n",
       "    </tr>\n",
       "    <tr>\n",
       "      <th>4</th>\n",
       "      <td>0</td>\n",
       "      <td>0</td>\n",
       "      <td>1</td>\n",
       "      <td>0</td>\n",
       "      <td>1</td>\n",
       "      <td>0</td>\n",
       "      <td>0</td>\n",
       "      <td>0</td>\n",
       "      <td>0</td>\n",
       "      <td>0</td>\n",
       "      <td>...</td>\n",
       "      <td>0</td>\n",
       "      <td>0</td>\n",
       "      <td>0</td>\n",
       "      <td>1</td>\n",
       "      <td>0</td>\n",
       "      <td>0</td>\n",
       "      <td>0</td>\n",
       "      <td>0</td>\n",
       "      <td>0</td>\n",
       "      <td>1</td>\n",
       "    </tr>\n",
       "  </tbody>\n",
       "</table>\n",
       "<p>5 rows × 33 columns</p>\n",
       "</div>"
      ],
      "text/plain": [
       "   risk  job_1  job_2  job_3  purpose_car  purpose_domestic appliances  \\\n",
       "0     1      0      1      0            0                            0   \n",
       "1     0      0      1      0            0                            0   \n",
       "2     1      1      0      0            0                            0   \n",
       "3     1      0      1      0            0                            0   \n",
       "4     0      0      1      0            1                            0   \n",
       "\n",
       "   purpose_education  purpose_furniture/equipment  purpose_radio/TV  \\\n",
       "0                  0                            0                 1   \n",
       "1                  0                            0                 1   \n",
       "2                  1                            0                 0   \n",
       "3                  0                            1                 0   \n",
       "4                  0                            0                 0   \n",
       "\n",
       "   purpose_repairs  ...  age_senior  duration_(10.0, 12.0]  \\\n",
       "0                0  ...           1                      0   \n",
       "1                0  ...           0                      0   \n",
       "2                0  ...           0                      1   \n",
       "3                0  ...           0                      0   \n",
       "4                0  ...           0                      0   \n",
       "\n",
       "   duration_(12.0, 18.0]  duration_(18.0, 24.0]  duration_(24.0, 36.0]  \\\n",
       "0                      0                      0                      0   \n",
       "1                      0                      0                      0   \n",
       "2                      0                      0                      0   \n",
       "3                      0                      0                      0   \n",
       "4                      0                      1                      0   \n",
       "\n",
       "   duration_(36.0, 72.0]  credit_amount_(1262.0, 1906.8]  \\\n",
       "0                      0                               0   \n",
       "1                      1                               0   \n",
       "2                      0                               0   \n",
       "3                      1                               0   \n",
       "4                      0                               0   \n",
       "\n",
       "   credit_amount_(1906.8, 2852.4]  credit_amount_(2852.4, 4720.0]  \\\n",
       "0                               0                               0   \n",
       "1                               0                               0   \n",
       "2                               1                               0   \n",
       "3                               0                               0   \n",
       "4                               0                               0   \n",
       "\n",
       "   credit_amount_(4720.0, 18424.0]  \n",
       "0                                0  \n",
       "1                                1  \n",
       "2                                0  \n",
       "3                                1  \n",
       "4                                1  \n",
       "\n",
       "[5 rows x 33 columns]"
      ]
     },
     "execution_count": 46,
     "metadata": {},
     "output_type": "execute_result"
    }
   ],
   "source": [
    "# preview updated dataframe\n",
    "df.head()"
   ]
  },
  {
   "cell_type": "code",
   "execution_count": 47,
   "metadata": {
    "colab": {
     "base_uri": "https://localhost:8080/",
     "height": 51
    },
    "id": "FaBPmPzX9ibH",
    "outputId": "086747df-1774-4426-e3d8-07e5fa3e9e0f"
   },
   "outputs": [
    {
     "name": "stdout",
     "output_type": "stream",
     "text": [
      "(1000, 32)\n",
      "(1000,)\n"
     ]
    }
   ],
   "source": [
    "# dividing our dataset into features (X) and target (y)\n",
    "X = df.drop(columns = ['risk']).values\n",
    "y = df['risk'].values\n",
    "\n",
    "print(X.shape)\n",
    "print(y.shape)"
   ]
  },
  {
   "cell_type": "code",
   "execution_count": 48,
   "metadata": {
    "id": "Vsx_kFFkSUO5"
   },
   "outputs": [],
   "source": [
    "# splitting our dataset into 80-20 train-test sets\n",
    "from sklearn.model_selection import train_test_split \n",
    "X_train, X_test, y_train, y_test = train_test_split(X, y, test_size = 0.2, random_state = 42, stratify = y)"
   ]
  },
  {
   "cell_type": "markdown",
   "metadata": {
    "id": "rMX2zyf9Z4XQ"
   },
   "source": [
    "Because we had earlier seen that we had an imbalanced dataset, we will create a balanced dataset by trying to resample our dataset using SMOTE (Synthetic minority Oversampling Technique). This technique works randomly picking a point from the minority class and computing the k-nearest neighbors for this point. The synthetic points are added between the chosen point and its neighbors."
   ]
  },
  {
   "cell_type": "code",
   "execution_count": 50,
   "metadata": {
    "id": "vfj-DCF8Z2rm"
   },
   "outputs": [
    {
     "ename": "ModuleNotFoundError",
     "evalue": "No module named 'imblearn'",
     "output_type": "error",
     "traceback": [
      "\u001b[1;31m---------------------------------------------------------------------------\u001b[0m",
      "\u001b[1;31mModuleNotFoundError\u001b[0m                       Traceback (most recent call last)",
      "\u001b[1;32m<ipython-input-50-2ecb222a18fd>\u001b[0m in \u001b[0;36m<module>\u001b[1;34m\u001b[0m\n\u001b[0;32m      1\u001b[0m \u001b[1;31m# creating a balanced dataset\u001b[0m\u001b[1;33m\u001b[0m\u001b[1;33m\u001b[0m\u001b[1;33m\u001b[0m\u001b[0m\n\u001b[1;32m----> 2\u001b[1;33m \u001b[1;32mfrom\u001b[0m \u001b[0mimblearn\u001b[0m\u001b[1;33m.\u001b[0m\u001b[0mover_sampling\u001b[0m \u001b[1;32mimport\u001b[0m \u001b[0mSMOTE\u001b[0m\u001b[1;33m\u001b[0m\u001b[1;33m\u001b[0m\u001b[0m\n\u001b[0m\u001b[0;32m      3\u001b[0m \u001b[0msmt\u001b[0m \u001b[1;33m=\u001b[0m \u001b[0mSMOTE\u001b[0m\u001b[1;33m(\u001b[0m\u001b[1;33m)\u001b[0m\u001b[1;33m\u001b[0m\u001b[1;33m\u001b[0m\u001b[0m\n\u001b[0;32m      4\u001b[0m \u001b[0mX_train\u001b[0m\u001b[1;33m,\u001b[0m \u001b[0my_train\u001b[0m \u001b[1;33m=\u001b[0m \u001b[0msmt\u001b[0m\u001b[1;33m.\u001b[0m\u001b[0mfit_sample\u001b[0m\u001b[1;33m(\u001b[0m\u001b[0mX_train\u001b[0m\u001b[1;33m,\u001b[0m \u001b[0my_train\u001b[0m\u001b[1;33m)\u001b[0m\u001b[1;33m\u001b[0m\u001b[1;33m\u001b[0m\u001b[0m\n",
      "\u001b[1;31mModuleNotFoundError\u001b[0m: No module named 'imblearn'"
     ]
    }
   ],
   "source": [
    "# creating a balanced dataset\n",
    "from imblearn.over_sampling import SMOTE\n",
    "smt = SMOTE()\n",
    "X_train, y_train = smt.fit_sample(X_train, y_train)"
   ]
  },
  {
   "cell_type": "code",
   "execution_count": 51,
   "metadata": {},
   "outputs": [
    {
     "ename": "ModuleNotFoundError",
     "evalue": "No module named 'imblearn'",
     "output_type": "error",
     "traceback": [
      "\u001b[1;31m---------------------------------------------------------------------------\u001b[0m",
      "\u001b[1;31mModuleNotFoundError\u001b[0m                       Traceback (most recent call last)",
      "\u001b[1;32m<ipython-input-51-0b052d41b57a>\u001b[0m in \u001b[0;36m<module>\u001b[1;34m\u001b[0m\n\u001b[1;32m----> 1\u001b[1;33m \u001b[1;32mfrom\u001b[0m \u001b[0mimblearn\u001b[0m\u001b[1;33m.\u001b[0m\u001b[0mover_sampling\u001b[0m \u001b[1;32mimport\u001b[0m \u001b[0mSMOTE\u001b[0m\u001b[1;33m\u001b[0m\u001b[1;33m\u001b[0m\u001b[0m\n\u001b[0m",
      "\u001b[1;31mModuleNotFoundError\u001b[0m: No module named 'imblearn'"
     ]
    }
   ],
   "source": [
    "from imblearn.over_sampling import SMOTE"
   ]
  },
  {
   "cell_type": "code",
   "execution_count": null,
   "metadata": {
    "colab": {
     "base_uri": "https://localhost:8080/",
     "height": 34
    },
    "id": "caldshkvcEY0",
    "outputId": "0f6ea289-b5de-4d40-a5de-b22325bb672d"
   },
   "outputs": [],
   "source": [
    "# we check the amount of records in each category\n",
    "np.bincount(y_train)"
   ]
  },
  {
   "cell_type": "markdown",
   "metadata": {
    "id": "nRcdxyxPk3WZ"
   },
   "source": [
    "**Observation:** The minority class has been increased to the total number of majority class."
   ]
  },
  {
   "cell_type": "markdown",
   "metadata": {
    "id": "bN9Hn-5UcN4b"
   },
   "source": [
    "#### Data Modeling"
   ]
  },
  {
   "cell_type": "code",
   "execution_count": 63,
   "metadata": {
    "colab": {
     "base_uri": "https://localhost:8080/",
     "height": 173
    },
    "id": "zhmZ-8Mn-EEu",
    "outputId": "124e58f7-0e01-4a41-98e6-66f0dd4564c4"
   },
   "outputs": [
    {
     "name": "stderr",
     "output_type": "stream",
     "text": [
      "/usr/local/lib/python3.6/dist-packages/sklearn/linear_model/_logistic.py:940: ConvergenceWarning: lbfgs failed to converge (status=1):\n",
      "STOP: TOTAL NO. of ITERATIONS REACHED LIMIT.\n",
      "\n",
      "Increase the number of iterations (max_iter) or scale the data as shown in:\n",
      "    https://scikit-learn.org/stable/modules/preprocessing.html\n",
      "Please also refer to the documentation for alternative solver options:\n",
      "    https://scikit-learn.org/stable/modules/linear_model.html#logistic-regression\n",
      "  extra_warning_msg=_LOGISTIC_SOLVER_CONVERGENCE_MSG)\n"
     ]
    }
   ],
   "source": [
    "# model creation\n",
    "from sklearn.linear_model import LogisticRegression\n",
    "logistic_classifier = LogisticRegression()\n",
    "\n",
    "# training our model\n",
    "logistic_classifier.fit(X_train, y_train)\n",
    "\n",
    "# making predictions\n",
    "y_pred_logistic = logistic_classifier.predict(X_test)"
   ]
  },
  {
   "cell_type": "markdown",
   "metadata": {
    "id": "rkdaD8dG229Q"
   },
   "source": [
    "#### Model Evaluation"
   ]
  },
  {
   "cell_type": "code",
   "execution_count": 64,
   "metadata": {
    "colab": {
     "base_uri": "https://localhost:8080/",
     "height": 221
    },
    "id": "lyZsk-38-MMF",
    "outputId": "5780b1fa-558b-412c-c3f3-22b3f6c438c6"
   },
   "outputs": [
    {
     "name": "stdout",
     "output_type": "stream",
     "text": [
      "0.725\n",
      "[[ 28  32]\n",
      " [ 23 117]]\n",
      "              precision    recall  f1-score   support\n",
      "\n",
      "           0       0.55      0.47      0.50        60\n",
      "           1       0.79      0.84      0.81       140\n",
      "\n",
      "    accuracy                           0.73       200\n",
      "   macro avg       0.67      0.65      0.66       200\n",
      "weighted avg       0.71      0.72      0.72       200\n",
      "\n"
     ]
    }
   ],
   "source": [
    "# model evaluation\n",
    "from sklearn.metrics import accuracy_score, confusion_matrix, classification_report\n",
    "print(accuracy_score(y_pred_logistic, y_test))\n",
    "print(confusion_matrix(y_test, y_pred_logistic))\n",
    "print(classification_report(y_test, y_pred_logistic))"
   ]
  },
  {
   "cell_type": "markdown",
   "metadata": {
    "id": "aQBZMgCqk_C6"
   },
   "source": [
    "**Observations:**\n",
    "\n",
    "Our accuracy score for this model was 0.73. \n",
    "\n",
    "From our confusion matrix, we can see that we 119 records with the class 1 were predicted correctly, however 32 records with the class 1 were incorrectly predicted. 28 records with the class 0 were predicted correctly while 21 records were predicted incorrectly.\n",
    "\n",
    "From our classification report, we can see that we have a recall of 0.66 which is our true positive rate i.e. When it's actually a 1, how often does it predict a 1?"
   ]
  },
  {
   "cell_type": "code",
   "execution_count": 65,
   "metadata": {
    "colab": {
     "base_uri": "https://localhost:8080/",
     "height": 295
    },
    "id": "vtiJj_4WWsXB",
    "outputId": "73536118-2e92-4cb4-a2ff-e181e9cf9874"
   },
   "outputs": [
    {
     "data": {
      "image/png": "[encoded data removed]",
      "text/plain": [
       "<Figure size 432x288 with 1 Axes>"
      ]
     },
     "metadata": {
      "needs_background": "light",
      "tags": []
     },
     "output_type": "display_data"
    }
   ],
   "source": [
    "# Exploring another metric below \n",
    "# ---\n",
    "# plotting roc curve (receiving operating characteristic curve)\n",
    "from sklearn.metrics import roc_curve, roc_auc_score\n",
    "\n",
    "# Create true and false positive rates\n",
    "false_positive_rate, true_positive_rate, threshold = roc_curve(y_test, y_pred_logistic)\n",
    "\n",
    "# Plot ROC curve\n",
    "plt.title('Receiver Operating Characteristic')\n",
    "plt.plot(false_positive_rate, true_positive_rate)\n",
    "plt.plot([0, 1], ls=\"--\")\n",
    "plt.plot([0, 0], [1, 0] , c=\".7\"), plt.plot([1, 1] , c=\".7\")\n",
    "plt.ylabel('True Positive Rate')\n",
    "plt.xlabel('False Positive Rate')\n",
    "plt.show()"
   ]
  },
  {
   "cell_type": "markdown",
   "metadata": {
    "id": "sjxLylMgXteY"
   },
   "source": [
    "This type of curve shows the true positive and false positive rate for every probability threshold of a binary classifier. The higher the blue line, the better the model at distinguishing between the positive and negative classes."
   ]
  },
  {
   "cell_type": "code",
   "execution_count": 66,
   "metadata": {
    "colab": {
     "base_uri": "https://localhost:8080/",
     "height": 34
    },
    "id": "nyPMDZS0nIMI",
    "outputId": "29945c1b-9e5a-49f2-f2ac-1f39e5948efd"
   },
   "outputs": [
    {
     "data": {
      "text/plain": [
       "0.6511904761904763"
      ]
     },
     "execution_count": 66,
     "metadata": {
      "tags": []
     },
     "output_type": "execute_result"
    }
   ],
   "source": [
    "# roc_auc_score\n",
    "roc_auc_score(y_test, y_pred_logistic)"
   ]
  },
  {
   "cell_type": "markdown",
   "metadata": {
    "id": "SNaaoaBonO8Q"
   },
   "source": [
    "Observation: An roc auc score coser to 1 the better the model is."
   ]
  },
  {
   "cell_type": "markdown",
   "metadata": {
    "id": "fBrgP4Su5mMt"
   },
   "source": [
    "### <font color=\"green\">Challenge 1</font>"
   ]
  },
  {
   "cell_type": "code",
   "execution_count": 67,
   "metadata": {
    "id": "KnQ9C61T5mMu"
   },
   "outputs": [],
   "source": [
    "# Create a credit scoring model that will be used to predict \n",
    "# whether a customer will default or not.\n",
    "# ---\n",
    "# Dataset URL = https://bit.ly/37FPsAF\n",
    "# ---\n",
    "# YOUR CODE GOES BELOW\n",
    "#"
   ]
  },
  {
   "cell_type": "markdown",
   "metadata": {
    "id": "s7bsk53Y508R"
   },
   "source": [
    "## Advanced Machine Learning Techniques"
   ]
  },
  {
   "cell_type": "markdown",
   "metadata": {
    "id": "13CyddVm2Q0m"
   },
   "source": [
    "For the following examples, we will apply other advanced machine learning techniques i.e. decision trees, random forest, gradient boosting and neural networks. We will dive right into the modeling stage since we will be using the dataset that we have already explored."
   ]
  },
  {
   "cell_type": "markdown",
   "metadata": {
    "id": "FjnfSF1O508T"
   },
   "source": [
    "### Example: Decision Trees, Random Forest and Gradient Boosting."
   ]
  },
  {
   "cell_type": "code",
   "execution_count": null,
   "metadata": {
    "id": "06NRjBav508U"
   },
   "outputs": [],
   "source": [
    "# importing our machine learning algorithms  \n",
    "from sklearn.tree import DecisionTreeClassifier    \n",
    "from sklearn.ensemble import RandomForestClassifier\n",
    "from sklearn.ensemble import GradientBoostingClassifier\n",
    "\n",
    "# instantiating our algorithms\n",
    "decision_classifier = DecisionTreeClassifier()\n",
    "random_forest_classifier = RandomForestClassifier()\n",
    "gbm_classifier = GradientBoostingClassifier()\n",
    "\n",
    "# training our models\n",
    "decision_classifier.fit(X_train, y_train)\n",
    "random_forest_classifier.fit(X_train, y_train)\n",
    "gbm_classifier.fit(X_train, y_train)\n",
    "\n",
    "# making predictions\n",
    "decision_y_prediction = decision_classifier.predict(X_test) \n",
    "random_forest_y_pred = random_forest_classifier.predict(X_test)\n",
    "gbm_y_pred = gbm_classifier.predict(X_test)\n",
    "\n",
    "# evaluation metrics\n",
    "from sklearn.metrics import classification_report, accuracy_score, roc_auc_score, confusion_matrix\n",
    "print('Decision Tree')\n",
    "print(accuracy_score(decision_y_prediction, y_test))\n",
    "print(confusion_matrix(decision_y_prediction, y_test))\n",
    "print(classification_report(decision_y_prediction, y_test))\n",
    "print(roc_auc_score(decision_y_prediction, y_test))\n",
    "\n",
    "print('Random Forest')\n",
    "print(accuracy_score(random_forest_y_pred, y_test))\n",
    "print(confusion_matrix(random_forest_y_pred, y_test))\n",
    "print(classification_report(random_forest_y_pred, y_test))\n",
    "print(roc_auc_score(random_forest_y_pred, y_test))\n",
    "\n",
    "print('Gradient Boosting')\n",
    "print(accuracy_score(gbm_y_pred, y_test))\n",
    "print(confusion_matrix(gbm_y_pred, y_test))\n",
    "print(classification_report(gbm_y_pred, y_test))\n",
    "print(roc_auc_score(gbm_y_pred, y_test))"
   ]
  },
  {
   "cell_type": "markdown",
   "metadata": {
    "id": "WxOwJKgF5qSb"
   },
   "source": [
    "**Observation:** The Recall score for the random forest model was slightly higher than that of the logistic regression model. However, the random forest model was not better at predicting true negatives. \n",
    "\n",
    "Overall, we can still retain to use the logistic regression classifier, as it still outperformed other models even without any optimisation done."
   ]
  },
  {
   "cell_type": "markdown",
   "metadata": {
    "id": "T-J4QXei6aZh"
   },
   "source": [
    "### Example: Neural Networks"
   ]
  },
  {
   "cell_type": "code",
   "execution_count": null,
   "metadata": {
    "id": "KNdRdQRW6hGU"
   },
   "outputs": [],
   "source": [
    "# importing libraries\n",
    "import keras\n",
    "from keras.models import Sequential     # Used to initialize the Artificial Neural Network\n",
    "from keras.layers import Dense          # Used to build the hidden Layers\n",
    "from keras.layers import Dropout        # Used to prevent overfitting\n",
    "\n",
    "# creating an instance \n",
    "classifier = Sequential() \n",
    "\n",
    "# adding hidden layers\n",
    "classifier.add(Dense(units = 100, input_dim = 33, activation = 'relu'))\n",
    "classifier.add(Dropout(0.3, seed = 2))\n",
    "classifier.add(Dense(units = 100, activation = 'relu'))\n",
    "classifier.add(Dropout(0.3, seed = 2))\n",
    "\n",
    "# output layer\n",
    "classifier.add(Dense(units = 1, activation = \"sigmoid\"))\n",
    "\n",
    "# compiling our model\n",
    "classifier.compile(optimizer = 'adam', loss = 'binary_crossentropy', metrics = ['accuracy'])\n",
    "\n",
    "# training our model\n",
    "classifier.fit(X_train, y_train, epochs = 500, batch_size = 32)"
   ]
  },
  {
   "cell_type": "code",
   "execution_count": null,
   "metadata": {
    "id": "ugv6ynKg7KDe"
   },
   "outputs": [],
   "source": [
    "# model evaluation\n",
    "loss, accuracy = classifier.evaluate(X_test, y_test)\n",
    "print('ANN Accuracy:', accuracy)"
   ]
  },
  {
   "cell_type": "markdown",
   "metadata": {
    "id": "_0V6-Bon7pxO"
   },
   "source": [
    "We get an accuracy of 0.69 with our neural networks model. However, this is not better than our logistic regression accuracy score."
   ]
  },
  {
   "cell_type": "markdown",
   "metadata": {
    "id": "yrcsM3vI508Z"
   },
   "source": [
    "### <font color=\"green\">Challenge</font>"
   ]
  },
  {
   "cell_type": "code",
   "execution_count": null,
   "metadata": {
    "id": "_VWi_X6v508a"
   },
   "outputs": [],
   "source": [
    "# Given the dataset in challenge 1, create a credit scoring model\n",
    "# to predict whether a customer will default or not using any of the\n",
    "# advanced machine learning techniques.\n",
    "# ---\n",
    "# Dataset URL = https://bit.ly/37FPsAF\n",
    "# ---\n",
    "# YOUR CODE GOES BELOW\n",
    "#"
   ]
  }
 ],
 "metadata": {
  "colab": {
   "collapsed_sections": [
    "Yy0Kwwg43_HN",
    "s5W5F3084Ccc",
    "qfNEnBw637RZ",
    "AW8i6nAy4PM6",
    "bN9Hn-5UcN4b",
    "rkdaD8dG229Q",
    "fBrgP4Su5mMt",
    "s7bsk53Y508R",
    "FjnfSF1O508T",
    "T-J4QXei6aZh",
    "yrcsM3vI508Z"
   ],
   "name": "Copy of Practice Notebook: Credit Scoring Models for Banking",
   "provenance": [],
   "toc_visible": true
  },
  "kernelspec": {
   "display_name": "Python 3",
   "language": "python",
   "name": "python3"
  },
  "language_info": {
   "codemirror_mode": {
    "name": "ipython",
    "version": 3
   },
   "file_extension": ".py",
   "mimetype": "text/x-python",
   "name": "python",
   "nbconvert_exporter": "python",
   "pygments_lexer": "ipython3",
   "version": "3.8.5"
  }
 },
 "nbformat": 4,
 "nbformat_minor": 4
}
